{
 "cells": [
  {
   "cell_type": "code",
   "execution_count": 4,
   "id": "6d3a4d8c-938f-4525-8049-437d64bb323b",
   "metadata": {},
   "outputs": [],
   "source": [
    "import numpy as np"
   ]
  },
  {
   "cell_type": "code",
   "execution_count": 5,
   "id": "306ce465-7450-4441-bb2f-891bee85ef80",
   "metadata": {},
   "outputs": [],
   "source": [
    "def ssd(startx,endx,totx,starty,endy,toty):\n",
    "    return ((endx-startx)/totx),((endy-starty)/toty)"
   ]
  },
  {
   "cell_type": "code",
   "execution_count": 17,
   "id": "35cbfcc6-fed5-4a4d-947f-38fdaf5fda5a",
   "metadata": {},
   "outputs": [],
   "source": [
    "def roun(li,dp=1):\n",
    "    li = li * (10**(dp))\n",
    "    li2 = []\n",
    "    for i in li:\n",
    "        if(i-(i//1)>0.5):\n",
    "            li2.append((i//1) + 1)\n",
    "        elif(i-(i//1)<0.5):\n",
    "            li2.append((i//1))\n",
    "        else:\n",
    "            if(i%2==0):\n",
    "                li2.append(i//1)\n",
    "            else:\n",
    "                li2.append((i//1) + 1)\n",
    "    return np.array(li2) /(10**dp)"
   ]
  },
  {
   "cell_type": "code",
   "execution_count": 18,
   "id": "7822e664-33cd-4321-b45c-06055b17a8bb",
   "metadata": {},
   "outputs": [],
   "source": [
    "def getxy(xdata,ydata,startx,endx,totx,starty,endy,toty):\n",
    "    ss = ssd(startx,endx,totx,starty,endy,toty)\n",
    "    return roun((xdata-startx)/ss[0]),roun((ydata-starty)/ss[1])"
   ]
  },
  {
   "cell_type": "code",
   "execution_count": 19,
   "id": "e9af211a-4bfb-4fae-8413-a08855886c8f",
   "metadata": {},
   "outputs": [],
   "source": [
    "xdata = []\n",
    "ydata = []"
   ]
  }
 ],
 "metadata": {
  "kernelspec": {
   "display_name": "Python 3 (ipykernel)",
   "language": "python",
   "name": "python3"
  },
  "language_info": {
   "codemirror_mode": {
    "name": "ipython",
    "version": 3
   },
   "file_extension": ".py",
   "mimetype": "text/x-python",
   "name": "python",
   "nbconvert_exporter": "python",
   "pygments_lexer": "ipython3",
   "version": "3.12.5"
  }
 },
 "nbformat": 4,
 "nbformat_minor": 5
}
